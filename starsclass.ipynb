{
 "cells": [
  {
   "attachments": {},
   "cell_type": "markdown",
   "metadata": {},
   "source": [
    "Penjelasan CRISP-DM"
   ]
  },
  {
   "cell_type": "code",
   "execution_count": null,
   "metadata": {},
   "outputs": [],
   "source": [
    "1. Business Understanding\n",
    "\n",
    "-------Problem\n",
    "Bintang adalah salah satu benda langit yang bisa memancarkan cahayanya sendiri. \n",
    "Matahari merupakan salah satu bintang yang ada, yang menjadi pusat tata surya. \n",
    "Bintang merupakan penghias langit malam yang terbaik. Sekilas semua bintang terlihat sama, \n",
    "namun sebenarnya bintang-bintang tersebut berbeda. \n",
    "Tiap unsur kimia yang dipanaskan dengan suhu yang sangat tinggi akan memancarkan cahaya yang khas. \n",
    "Berdasarkan hal tersebut, dapat diduga kandungan yang terdapat pada sebuah bintang. \n",
    "Berdasarkan warna spektrum cahaya itu pula, bintang-bintang dibagi menjadi beberapa\n",
    "\n",
    "-------Problem Statements\n",
    "Teleskop telah berkembang sangat pesat. Peningkatan data astronomi terjadi setiap tahun\n",
    "secara eksponensial, sehingga menjadi mustahil untuk semua data diproses dan dianalisis secara\n",
    "manual. Oleh karena itu, diperlukan sebuah metode dalam analisis  data yang\n",
    "efektif dan akurat. Solusi yang paling mungkin adalah melibatkan algoritma machine learning.\n",
    "\n",
    "Bagaimana cara melakukan pra-pemrosesan pada data jenis bintang yang akan digunakan untuk membuat model yang baik?\n",
    "Bagaimana cara membuat model untuk memprediksi jenis bintang apa pada keadaan di langit dengan menggunakan machine learning?\n",
    "Bagaimana cara memilih/membuat algoritma yang mampu menghasilkan nilai akurasi diatas 90%\n",
    "\n",
    "-------Goals\n",
    "Melakukan pra-pemrosesan dengan baik agar dapat digunakan dalam pembuatan model.\n",
    "Mengetahui cara membuat model machine learning untuk memprediksi jenis bintang.\n",
    "Membuat model machine learning dengan nilai akurasi yang mencapai 90%."
   ]
  },
  {
   "cell_type": "code",
   "execution_count": null,
   "metadata": {},
   "outputs": [],
   "source": [
    "2. Data Understanding\n",
    "\n",
    "-------Data pada project ini menggunakan data yang bersumber pada sebuah situs kaggle, \n",
    "dimana fokus pada data tersebut menjelaskan faktor-faktor yang akan mempengaruhi jenis bintang. \n",
    "Informasi dataset dapat dilihat  dibawah ini :\n",
    "\n",
    "Sumber      : https://www.kaggle.com/datasets/brsdincer/star-type-classification\n",
    "Lisensi     : http://opendatacommons.org/licenses/dbcl/1.0/\n",
    "Kategori    : Categorical, Astronomy\n",
    "Jenis file  : csv\n",
    "\n",
    "Pada berkas yang diunduh yakni Stars.csv berisi 240 rows × 7 columns. \n",
    "Kolom-kolom tersebut terdiri dari 7 buah kolom bertipe numerik (tipe data float64 dan int64). \n",
    "Untuk penjelasan mengenai variabel-variable pada dataset stars ini dapat dilihat sebagai berikut:\n",
    "\n",
    "Temperature = Suhu bintang\n",
    "L = Luminositas bintang\n",
    "R = Radius bintang\n",
    "A_M\t= absolute magnitude/kecerahan bintang\n",
    "Color = warna bintang\n",
    "Spectral_Class = urutan penurunan suhu (O, B, A, F, G, K, dan M)\n",
    "O dan B tidak umum, sangat panas dan cerah. Bintang M lebih umum, lebih dingin dan redup.\n",
    "\n",
    "Berikut beberapa tahapan sebelum visualisasi data pada data preparation sebagai berikut:\n",
    "\n",
    "-------Meload Dataset ke dalam sebuah Dataframe menggunakan pandas\n",
    "+ stars_dataset.info() digunakan untuk mengecek tipe kolom pada dataset\n",
    "+ stars_dataset.isna().sum() digunakan untuk mengecek apakah ada kolom yg kosong\n",
    "+ stars_dataset.describe() digunakan utk mendapatkan info mengenai dataset terhadap nilai rata-rata, median, \n",
    "                banyaknya data dan lain-lain.\n",
    "\n",
    "Berikut beberapa tahapan visualisasi data pada data preparation:\n",
    "\n",
    "Melakukan visualisasi distribusi categorial, dimana ini digunakan untuk kategorikan jenis bintang\n",
    "Kategori jenis bintang dalam dataset ini berisi 6 kategori yaitu :\n",
    "\n",
    "+ Jenis Red Dwarf - 0\n",
    "+ Jenis Brown Dwarf - 1\n",
    "+ Jenis White Dwarf - 2\n",
    "+ Jenis Main Sequence - 3\n",
    "+ Jenis Super Giants - 4\n",
    "+ Jenis Hyper Giants - 5"
   ]
  },
  {
   "cell_type": "code",
   "execution_count": null,
   "metadata": {},
   "outputs": [],
   "source": [
    "3. Data Preparation\n",
    "Berikut adalah tahapan-tahapan dalam melakukan pra-pemrosesan data:\n",
    "\n",
    "-------Melakukan perhitungan jumlah baris terhadap kolom target\n",
    "stars_dataset['Type'].value_counts()\n",
    "Pada dataset ini :\n",
    "menghitung atribut yang ada di Type, ada 0 1,2,3,4 dan 5 , berikut jumlah nilai nya\n",
    "Dari 768 data, \n",
    "0    40\n",
    "1    40\n",
    "2    40\n",
    "3    40\n",
    "4    40\n",
    "5    40\n",
    "\n",
    "ada 40 jenis bintang Red Dwarf - 0\n",
    "ada 40 jenis bintang Brown Dwarf - 1\n",
    "ada 40 jenis bintang White Dwarf - 2\n",
    "ada 40 jenis bintang Main Sequence - 3\n",
    "ada 40 jenis bintang Super Giants - 4\n",
    "ada 40 jenis bintang Hyper Giants - 5\n",
    "\n",
    "\n",
    "-------Melakukan seleksi Fitur, menentukan x dan y\n",
    "X : Temperature,L,R,A_M,Color,Spectral_Class\n",
    "Y : Type \n",
    "\n",
    "-------Melakukan pembagian dataset menjadi dengan 80% untuk data latih \n",
    "Dan 20% untuk data uji Setelah melakukan pra-pemrosesan ke dataset, \n",
    "Data latih adalah data yang hanya digunakan untuk melatih model, \n",
    "sedangkan data uji adalah data yang hanya digunakan sebagai ujicoba model. \n",
    "Pembagian dataset ini menggunakan modul train_test_split dari scikit-learn. \n"
   ]
  },
  {
   "cell_type": "code",
   "execution_count": null,
   "metadata": {},
   "outputs": [],
   "source": [
    "4. Modelling\n",
    "\n",
    "Setelah dilakukan pra-pemrosesan pada dataset, langkah selanjutnya adalah modeling terhadap data. \n",
    "\n",
    "-------Dalam pemrosesan klasifikasi, akan dilakukan dengan menggunakan\n",
    "metode algoritma SVM. Support Vector Machine (SVM) adalah algoritma\n",
    "supervised learning yang berupa klasifikasi.\n",
    "metode supervised learning dengan algoritma SVM dapat mengklasifikasi\n",
    "Jenis bintang."
   ]
  },
  {
   "cell_type": "code",
   "execution_count": null,
   "metadata": {},
   "outputs": [],
   "source": [
    "5. Evaluation\n",
    "\n",
    "Hasil menunjukkan bahwa Algoritma SVM dapat membuat model\n",
    "machine learning dengan akurasi training dan testing sebesar 100%."
   ]
  },
  {
   "cell_type": "code",
   "execution_count": null,
   "metadata": {},
   "outputs": [],
   "source": [
    "6. Deployment\n",
    "\n",
    "Pada tahap ini, pengetahuan atau informasi yang telah diperoleh dari analisis akan diatur \n",
    "dan dipresentasikan dalam bentuk aplikasi streamlit sehingga dapat digunakan oleh pengguna. "
   ]
  },
  {
   "attachments": {},
   "cell_type": "markdown",
   "metadata": {},
   "source": [
    "1. Tentukan Library yang digunakan"
   ]
  },
  {
   "cell_type": "code",
   "execution_count": 8,
   "metadata": {},
   "outputs": [],
   "source": [
    "import numpy as np \n",
    "import pandas as pd\n",
    "from sklearn.preprocessing import StandardScaler\n",
    "from sklearn.model_selection import train_test_split\n",
    "from sklearn import svm\n",
    "from sklearn.metrics import accuracy_score\n",
    "import matplotlib.pyplot as plt\n",
    "import seaborn as sns"
   ]
  },
  {
   "attachments": {},
   "cell_type": "markdown",
   "metadata": {},
   "source": [
    "2. Load DataSet"
   ]
  },
  {
   "cell_type": "code",
   "execution_count": 9,
   "metadata": {},
   "outputs": [],
   "source": [
    "\n",
    "stars_dataset = pd.read_csv('Stars.csv')"
   ]
  },
  {
   "cell_type": "code",
   "execution_count": 10,
   "metadata": {},
   "outputs": [
    {
     "data": {
      "text/html": [
       "<div>\n",
       "<style scoped>\n",
       "    .dataframe tbody tr th:only-of-type {\n",
       "        vertical-align: middle;\n",
       "    }\n",
       "\n",
       "    .dataframe tbody tr th {\n",
       "        vertical-align: top;\n",
       "    }\n",
       "\n",
       "    .dataframe thead th {\n",
       "        text-align: right;\n",
       "    }\n",
       "</style>\n",
       "<table border=\"1\" class=\"dataframe\">\n",
       "  <thead>\n",
       "    <tr style=\"text-align: right;\">\n",
       "      <th></th>\n",
       "      <th>Temperature</th>\n",
       "      <th>L</th>\n",
       "      <th>R</th>\n",
       "      <th>A_M</th>\n",
       "      <th>Color</th>\n",
       "      <th>Spectral_Class</th>\n",
       "      <th>Type</th>\n",
       "    </tr>\n",
       "  </thead>\n",
       "  <tbody>\n",
       "    <tr>\n",
       "      <th>0</th>\n",
       "      <td>3068</td>\n",
       "      <td>0.002400</td>\n",
       "      <td>0.1700</td>\n",
       "      <td>16.12</td>\n",
       "      <td>0</td>\n",
       "      <td>0</td>\n",
       "      <td>0</td>\n",
       "    </tr>\n",
       "    <tr>\n",
       "      <th>1</th>\n",
       "      <td>3042</td>\n",
       "      <td>0.000500</td>\n",
       "      <td>0.1542</td>\n",
       "      <td>16.60</td>\n",
       "      <td>0</td>\n",
       "      <td>0</td>\n",
       "      <td>0</td>\n",
       "    </tr>\n",
       "    <tr>\n",
       "      <th>2</th>\n",
       "      <td>2600</td>\n",
       "      <td>0.000300</td>\n",
       "      <td>0.1020</td>\n",
       "      <td>18.70</td>\n",
       "      <td>0</td>\n",
       "      <td>0</td>\n",
       "      <td>0</td>\n",
       "    </tr>\n",
       "    <tr>\n",
       "      <th>3</th>\n",
       "      <td>2800</td>\n",
       "      <td>0.000200</td>\n",
       "      <td>0.1600</td>\n",
       "      <td>16.65</td>\n",
       "      <td>0</td>\n",
       "      <td>0</td>\n",
       "      <td>0</td>\n",
       "    </tr>\n",
       "    <tr>\n",
       "      <th>4</th>\n",
       "      <td>1939</td>\n",
       "      <td>0.000138</td>\n",
       "      <td>0.1030</td>\n",
       "      <td>20.06</td>\n",
       "      <td>0</td>\n",
       "      <td>0</td>\n",
       "      <td>0</td>\n",
       "    </tr>\n",
       "  </tbody>\n",
       "</table>\n",
       "</div>"
      ],
      "text/plain": [
       "   Temperature         L       R    A_M  Color  Spectral_Class  Type\n",
       "0         3068  0.002400  0.1700  16.12      0               0     0\n",
       "1         3042  0.000500  0.1542  16.60      0               0     0\n",
       "2         2600  0.000300  0.1020  18.70      0               0     0\n",
       "3         2800  0.000200  0.1600  16.65      0               0     0\n",
       "4         1939  0.000138  0.1030  20.06      0               0     0"
      ]
     },
     "execution_count": 10,
     "metadata": {},
     "output_type": "execute_result"
    }
   ],
   "source": [
    "stars_dataset.head()"
   ]
  },
  {
   "cell_type": "code",
   "execution_count": 34,
   "metadata": {},
   "outputs": [
    {
     "name": "stdout",
     "output_type": "stream",
     "text": [
      "<class 'pandas.core.frame.DataFrame'>\n",
      "RangeIndex: 240 entries, 0 to 239\n",
      "Data columns (total 7 columns):\n",
      " #   Column          Non-Null Count  Dtype  \n",
      "---  ------          --------------  -----  \n",
      " 0   Temperature     240 non-null    int64  \n",
      " 1   L               240 non-null    float64\n",
      " 2   R               240 non-null    float64\n",
      " 3   A_M             240 non-null    float64\n",
      " 4   Color           240 non-null    int64  \n",
      " 5   Spectral_Class  240 non-null    int64  \n",
      " 6   Type            240 non-null    int64  \n",
      "dtypes: float64(3), int64(4)\n",
      "memory usage: 13.2 KB\n"
     ]
    }
   ],
   "source": [
    "stars_dataset.info()"
   ]
  },
  {
   "cell_type": "code",
   "execution_count": 4,
   "metadata": {},
   "outputs": [
    {
     "data": {
      "text/html": [
       "<div>\n",
       "<style scoped>\n",
       "    .dataframe tbody tr th:only-of-type {\n",
       "        vertical-align: middle;\n",
       "    }\n",
       "\n",
       "    .dataframe tbody tr th {\n",
       "        vertical-align: top;\n",
       "    }\n",
       "\n",
       "    .dataframe thead th {\n",
       "        text-align: right;\n",
       "    }\n",
       "</style>\n",
       "<table border=\"1\" class=\"dataframe\">\n",
       "  <thead>\n",
       "    <tr style=\"text-align: right;\">\n",
       "      <th></th>\n",
       "      <th>Temperature</th>\n",
       "      <th>L</th>\n",
       "      <th>R</th>\n",
       "      <th>A_M</th>\n",
       "      <th>Color</th>\n",
       "      <th>Spectral_Class</th>\n",
       "      <th>Type</th>\n",
       "    </tr>\n",
       "  </thead>\n",
       "  <tbody>\n",
       "    <tr>\n",
       "      <th>0</th>\n",
       "      <td>False</td>\n",
       "      <td>False</td>\n",
       "      <td>False</td>\n",
       "      <td>False</td>\n",
       "      <td>False</td>\n",
       "      <td>False</td>\n",
       "      <td>False</td>\n",
       "    </tr>\n",
       "    <tr>\n",
       "      <th>1</th>\n",
       "      <td>False</td>\n",
       "      <td>False</td>\n",
       "      <td>False</td>\n",
       "      <td>False</td>\n",
       "      <td>False</td>\n",
       "      <td>False</td>\n",
       "      <td>False</td>\n",
       "    </tr>\n",
       "    <tr>\n",
       "      <th>2</th>\n",
       "      <td>False</td>\n",
       "      <td>False</td>\n",
       "      <td>False</td>\n",
       "      <td>False</td>\n",
       "      <td>False</td>\n",
       "      <td>False</td>\n",
       "      <td>False</td>\n",
       "    </tr>\n",
       "    <tr>\n",
       "      <th>3</th>\n",
       "      <td>False</td>\n",
       "      <td>False</td>\n",
       "      <td>False</td>\n",
       "      <td>False</td>\n",
       "      <td>False</td>\n",
       "      <td>False</td>\n",
       "      <td>False</td>\n",
       "    </tr>\n",
       "    <tr>\n",
       "      <th>4</th>\n",
       "      <td>False</td>\n",
       "      <td>False</td>\n",
       "      <td>False</td>\n",
       "      <td>False</td>\n",
       "      <td>False</td>\n",
       "      <td>False</td>\n",
       "      <td>False</td>\n",
       "    </tr>\n",
       "    <tr>\n",
       "      <th>...</th>\n",
       "      <td>...</td>\n",
       "      <td>...</td>\n",
       "      <td>...</td>\n",
       "      <td>...</td>\n",
       "      <td>...</td>\n",
       "      <td>...</td>\n",
       "      <td>...</td>\n",
       "    </tr>\n",
       "    <tr>\n",
       "      <th>235</th>\n",
       "      <td>False</td>\n",
       "      <td>False</td>\n",
       "      <td>False</td>\n",
       "      <td>False</td>\n",
       "      <td>False</td>\n",
       "      <td>False</td>\n",
       "      <td>False</td>\n",
       "    </tr>\n",
       "    <tr>\n",
       "      <th>236</th>\n",
       "      <td>False</td>\n",
       "      <td>False</td>\n",
       "      <td>False</td>\n",
       "      <td>False</td>\n",
       "      <td>False</td>\n",
       "      <td>False</td>\n",
       "      <td>False</td>\n",
       "    </tr>\n",
       "    <tr>\n",
       "      <th>237</th>\n",
       "      <td>False</td>\n",
       "      <td>False</td>\n",
       "      <td>False</td>\n",
       "      <td>False</td>\n",
       "      <td>False</td>\n",
       "      <td>False</td>\n",
       "      <td>False</td>\n",
       "    </tr>\n",
       "    <tr>\n",
       "      <th>238</th>\n",
       "      <td>False</td>\n",
       "      <td>False</td>\n",
       "      <td>False</td>\n",
       "      <td>False</td>\n",
       "      <td>False</td>\n",
       "      <td>False</td>\n",
       "      <td>False</td>\n",
       "    </tr>\n",
       "    <tr>\n",
       "      <th>239</th>\n",
       "      <td>False</td>\n",
       "      <td>False</td>\n",
       "      <td>False</td>\n",
       "      <td>False</td>\n",
       "      <td>False</td>\n",
       "      <td>False</td>\n",
       "      <td>False</td>\n",
       "    </tr>\n",
       "  </tbody>\n",
       "</table>\n",
       "<p>240 rows × 7 columns</p>\n",
       "</div>"
      ],
      "text/plain": [
       "     Temperature      L      R    A_M  Color  Spectral_Class   Type\n",
       "0          False  False  False  False  False           False  False\n",
       "1          False  False  False  False  False           False  False\n",
       "2          False  False  False  False  False           False  False\n",
       "3          False  False  False  False  False           False  False\n",
       "4          False  False  False  False  False           False  False\n",
       "..           ...    ...    ...    ...    ...             ...    ...\n",
       "235        False  False  False  False  False           False  False\n",
       "236        False  False  False  False  False           False  False\n",
       "237        False  False  False  False  False           False  False\n",
       "238        False  False  False  False  False           False  False\n",
       "239        False  False  False  False  False           False  False\n",
       "\n",
       "[240 rows x 7 columns]"
      ]
     },
     "execution_count": 4,
     "metadata": {},
     "output_type": "execute_result"
    }
   ],
   "source": [
    "stars_dataset.isnull()"
   ]
  },
  {
   "cell_type": "code",
   "execution_count": 11,
   "metadata": {},
   "outputs": [
    {
     "data": {
      "text/plain": [
       "(240, 7)"
      ]
     },
     "execution_count": 11,
     "metadata": {},
     "output_type": "execute_result"
    }
   ],
   "source": [
    "stars_dataset.shape"
   ]
  },
  {
   "cell_type": "code",
   "execution_count": 12,
   "metadata": {},
   "outputs": [
    {
     "data": {
      "text/plain": [
       "0    40\n",
       "1    40\n",
       "2    40\n",
       "3    40\n",
       "4    40\n",
       "5    40\n",
       "Name: Type, dtype: int64"
      ]
     },
     "execution_count": 12,
     "metadata": {},
     "output_type": "execute_result"
    }
   ],
   "source": [
    "stars_dataset['Type'].value_counts()"
   ]
  },
  {
   "cell_type": "code",
   "execution_count": 13,
   "metadata": {},
   "outputs": [
    {
     "data": {
      "text/plain": [
       "<Axes: >"
      ]
     },
     "execution_count": 13,
     "metadata": {},
     "output_type": "execute_result"
    },
    {
     "data": {
      "image/png": "[encoded data removed]",
      "text/plain": [
       "<Figure size 640x480 with 2 Axes>"
      ]
     },
     "metadata": {},
     "output_type": "display_data"
    }
   ],
   "source": [
    "sns.heatmap(stars_dataset.isnull())"
   ]
  },
  {
   "cell_type": "code",
   "execution_count": 15,
   "metadata": {},
   "outputs": [
    {
     "data": {
      "text/html": [
       "<div>\n",
       "<style scoped>\n",
       "    .dataframe tbody tr th:only-of-type {\n",
       "        vertical-align: middle;\n",
       "    }\n",
       "\n",
       "    .dataframe tbody tr th {\n",
       "        vertical-align: top;\n",
       "    }\n",
       "\n",
       "    .dataframe thead th {\n",
       "        text-align: right;\n",
       "    }\n",
       "</style>\n",
       "<table border=\"1\" class=\"dataframe\">\n",
       "  <thead>\n",
       "    <tr style=\"text-align: right;\">\n",
       "      <th></th>\n",
       "      <th>Temperature</th>\n",
       "      <th>L</th>\n",
       "      <th>R</th>\n",
       "      <th>A_M</th>\n",
       "      <th>Color</th>\n",
       "      <th>Spectral_Class</th>\n",
       "      <th>Type</th>\n",
       "    </tr>\n",
       "  </thead>\n",
       "  <tbody>\n",
       "    <tr>\n",
       "      <th>count</th>\n",
       "      <td>240.000000</td>\n",
       "      <td>240.000000</td>\n",
       "      <td>240.000000</td>\n",
       "      <td>240.000000</td>\n",
       "      <td>240.000000</td>\n",
       "      <td>240.000000</td>\n",
       "      <td>240.000000</td>\n",
       "    </tr>\n",
       "    <tr>\n",
       "      <th>mean</th>\n",
       "      <td>10497.462500</td>\n",
       "      <td>107188.361635</td>\n",
       "      <td>237.157781</td>\n",
       "      <td>4.382396</td>\n",
       "      <td>2.366667</td>\n",
       "      <td>1.195833</td>\n",
       "      <td>2.500000</td>\n",
       "    </tr>\n",
       "    <tr>\n",
       "      <th>std</th>\n",
       "      <td>9552.425037</td>\n",
       "      <td>179432.244940</td>\n",
       "      <td>517.155763</td>\n",
       "      <td>10.532512</td>\n",
       "      <td>2.904140</td>\n",
       "      <td>1.434477</td>\n",
       "      <td>1.711394</td>\n",
       "    </tr>\n",
       "    <tr>\n",
       "      <th>min</th>\n",
       "      <td>1939.000000</td>\n",
       "      <td>0.000080</td>\n",
       "      <td>0.008400</td>\n",
       "      <td>-11.920000</td>\n",
       "      <td>0.000000</td>\n",
       "      <td>0.000000</td>\n",
       "      <td>0.000000</td>\n",
       "    </tr>\n",
       "    <tr>\n",
       "      <th>25%</th>\n",
       "      <td>3344.250000</td>\n",
       "      <td>0.000865</td>\n",
       "      <td>0.102750</td>\n",
       "      <td>-6.232500</td>\n",
       "      <td>0.000000</td>\n",
       "      <td>0.000000</td>\n",
       "      <td>1.000000</td>\n",
       "    </tr>\n",
       "    <tr>\n",
       "      <th>50%</th>\n",
       "      <td>5776.000000</td>\n",
       "      <td>0.070500</td>\n",
       "      <td>0.762500</td>\n",
       "      <td>8.313000</td>\n",
       "      <td>1.000000</td>\n",
       "      <td>1.000000</td>\n",
       "      <td>2.500000</td>\n",
       "    </tr>\n",
       "    <tr>\n",
       "      <th>75%</th>\n",
       "      <td>15055.500000</td>\n",
       "      <td>198050.000000</td>\n",
       "      <td>42.750000</td>\n",
       "      <td>13.697500</td>\n",
       "      <td>6.000000</td>\n",
       "      <td>2.000000</td>\n",
       "      <td>4.000000</td>\n",
       "    </tr>\n",
       "    <tr>\n",
       "      <th>max</th>\n",
       "      <td>40000.000000</td>\n",
       "      <td>849420.000000</td>\n",
       "      <td>1948.500000</td>\n",
       "      <td>20.060000</td>\n",
       "      <td>10.000000</td>\n",
       "      <td>6.000000</td>\n",
       "      <td>5.000000</td>\n",
       "    </tr>\n",
       "  </tbody>\n",
       "</table>\n",
       "</div>"
      ],
      "text/plain": [
       "        Temperature              L            R         A_M       Color  \\\n",
       "count    240.000000     240.000000   240.000000  240.000000  240.000000   \n",
       "mean   10497.462500  107188.361635   237.157781    4.382396    2.366667   \n",
       "std     9552.425037  179432.244940   517.155763   10.532512    2.904140   \n",
       "min     1939.000000       0.000080     0.008400  -11.920000    0.000000   \n",
       "25%     3344.250000       0.000865     0.102750   -6.232500    0.000000   \n",
       "50%     5776.000000       0.070500     0.762500    8.313000    1.000000   \n",
       "75%    15055.500000  198050.000000    42.750000   13.697500    6.000000   \n",
       "max    40000.000000  849420.000000  1948.500000   20.060000   10.000000   \n",
       "\n",
       "       Spectral_Class        Type  \n",
       "count      240.000000  240.000000  \n",
       "mean         1.195833    2.500000  \n",
       "std          1.434477    1.711394  \n",
       "min          0.000000    0.000000  \n",
       "25%          0.000000    1.000000  \n",
       "50%          1.000000    2.500000  \n",
       "75%          2.000000    4.000000  \n",
       "max          6.000000    5.000000  "
      ]
     },
     "execution_count": 15,
     "metadata": {},
     "output_type": "execute_result"
    }
   ],
   "source": [
    "stars_dataset.describe()"
   ]
  },
  {
   "attachments": {},
   "cell_type": "markdown",
   "metadata": {},
   "source": [
    "3. Visualisasi Data"
   ]
  },
  {
   "cell_type": "code",
   "execution_count": 16,
   "metadata": {},
   "outputs": [
    {
     "data": {
      "text/plain": [
       "<Axes: >"
      ]
     },
     "execution_count": 16,
     "metadata": {},
     "output_type": "execute_result"
    },
    {
     "data": {
      "image/png": "[encoded data removed]",
      "text/plain": [
       "<Figure size 1000x800 with 2 Axes>"
      ]
     },
     "metadata": {},
     "output_type": "display_data"
    }
   ],
   "source": [
    "plt.figure(figsize=(10,8))\n",
    "sns.heatmap(stars_dataset.corr(),annot=True)"
   ]
  },
  {
   "cell_type": "code",
   "execution_count": 17,
   "metadata": {},
   "outputs": [
    {
     "data": {
      "text/plain": [
       "<Axes: ylabel='Type'>"
      ]
     },
     "execution_count": 17,
     "metadata": {},
     "output_type": "execute_result"
    },
    {
     "data": {
      "image/png": "[encoded data removed]",
      "text/plain": [
       "<Figure size 640x480 with 1 Axes>"
      ]
     },
     "metadata": {},
     "output_type": "display_data"
    }
   ],
   "source": [
    "stars_dataset['Type'].value_counts().plot(kind=\"pie\")"
   ]
  },
  {
   "cell_type": "code",
   "execution_count": 18,
   "metadata": {},
   "outputs": [
    {
     "data": {
      "text/plain": [
       "<Axes: >"
      ]
     },
     "execution_count": 18,
     "metadata": {},
     "output_type": "execute_result"
    },
    {
     "data": {
      "image/png": "[encoded data removed]",
      "text/plain": [
       "<Figure size 640x480 with 1 Axes>"
      ]
     },
     "metadata": {},
     "output_type": "display_data"
    }
   ],
   "source": [
    "stars_dataset['Temperature'].value_counts().plot(kind=\"bar\",color = \"yellow\")"
   ]
  },
  {
   "attachments": {},
   "cell_type": "markdown",
   "metadata": {},
   "source": [
    "4. Seleksi Fitur"
   ]
  },
  {
   "cell_type": "code",
   "execution_count": 19,
   "metadata": {},
   "outputs": [],
   "source": [
    "# memiahkan data dan label\n",
    "X = stars_dataset.drop (columns='Type',axis=1)\n",
    "Y = stars_dataset['Type']"
   ]
  },
  {
   "cell_type": "code",
   "execution_count": 20,
   "metadata": {},
   "outputs": [
    {
     "name": "stdout",
     "output_type": "stream",
     "text": [
      "     Temperature              L          R    A_M  Color  Spectral_Class\n",
      "0           3068       0.002400     0.1700  16.12      0               0\n",
      "1           3042       0.000500     0.1542  16.60      0               0\n",
      "2           2600       0.000300     0.1020  18.70      0               0\n",
      "3           2800       0.000200     0.1600  16.65      0               0\n",
      "4           1939       0.000138     0.1030  20.06      0               0\n",
      "..           ...            ...        ...    ...    ...             ...\n",
      "235        38940  374830.000000  1356.0000  -9.93      6               2\n",
      "236        30839  834042.000000  1194.0000 -10.63      6               2\n",
      "237         8829  537493.000000  1423.0000 -10.73      7               3\n",
      "238         9235  404940.000000  1112.0000 -11.23      7               3\n",
      "239        37882  294903.000000  1783.0000  -7.80      6               2\n",
      "\n",
      "[240 rows x 6 columns]\n"
     ]
    }
   ],
   "source": [
    "print(X)"
   ]
  },
  {
   "cell_type": "code",
   "execution_count": 21,
   "metadata": {},
   "outputs": [
    {
     "name": "stdout",
     "output_type": "stream",
     "text": [
      "0      0\n",
      "1      0\n",
      "2      0\n",
      "3      0\n",
      "4      0\n",
      "      ..\n",
      "235    5\n",
      "236    5\n",
      "237    5\n",
      "238    5\n",
      "239    5\n",
      "Name: Type, Length: 240, dtype: int64\n"
     ]
    }
   ],
   "source": [
    "print(Y)"
   ]
  },
  {
   "cell_type": "code",
   "execution_count": null,
   "metadata": {},
   "outputs": [],
   "source": [
    "#Split Data (memisahkan data training dan data testing)"
   ]
  },
  {
   "cell_type": "code",
   "execution_count": 22,
   "metadata": {},
   "outputs": [],
   "source": [
    "X_train, X_test, Y_train, Y_test = train_test_split(X, Y, test_size=0.2, stratify=Y, random_state=2)"
   ]
  },
  {
   "cell_type": "code",
   "execution_count": 23,
   "metadata": {},
   "outputs": [
    {
     "name": "stdout",
     "output_type": "stream",
     "text": [
      "(240, 6) (192, 6) (48, 6)\n"
     ]
    }
   ],
   "source": [
    "print(X.shape, X_train.shape, X_test.shape)"
   ]
  },
  {
   "attachments": {},
   "cell_type": "markdown",
   "metadata": {},
   "source": [
    "5. Membuat data latih menggunakan algoritma SVM"
   ]
  },
  {
   "cell_type": "code",
   "execution_count": 25,
   "metadata": {},
   "outputs": [],
   "source": [
    "classifier = svm.SVC(kernel='linear')"
   ]
  },
  {
   "cell_type": "code",
   "execution_count": 26,
   "metadata": {},
   "outputs": [
    {
     "data": {
      "text/html": [
       "<style>#sk-container-id-1 {color: black;background-color: white;}#sk-container-id-1 pre{padding: 0;}#sk-container-id-1 div.sk-toggleable {background-color: white;}#sk-container-id-1 label.sk-toggleable__label {cursor: pointer;display: block;width: 100%;margin-bottom: 0;padding: 0.3em;box-sizing: border-box;text-align: center;}#sk-container-id-1 label.sk-toggleable__label-arrow:before {content: \"▸\";float: left;margin-right: 0.25em;color: #696969;}#sk-container-id-1 label.sk-toggleable__label-arrow:hover:before {color: black;}#sk-container-id-1 div.sk-estimator:hover label.sk-toggleable__label-arrow:before {color: black;}#sk-container-id-1 div.sk-toggleable__content {max-height: 0;max-width: 0;overflow: hidden;text-align: left;background-color: #f0f8ff;}#sk-container-id-1 div.sk-toggleable__content pre {margin: 0.2em;color: black;border-radius: 0.25em;background-color: #f0f8ff;}#sk-container-id-1 input.sk-toggleable__control:checked~div.sk-toggleable__content {max-height: 200px;max-width: 100%;overflow: auto;}#sk-container-id-1 input.sk-toggleable__control:checked~label.sk-toggleable__label-arrow:before {content: \"▾\";}#sk-container-id-1 div.sk-estimator input.sk-toggleable__control:checked~label.sk-toggleable__label {background-color: #d4ebff;}#sk-container-id-1 div.sk-label input.sk-toggleable__control:checked~label.sk-toggleable__label {background-color: #d4ebff;}#sk-container-id-1 input.sk-hidden--visually {border: 0;clip: rect(1px 1px 1px 1px);clip: rect(1px, 1px, 1px, 1px);height: 1px;margin: -1px;overflow: hidden;padding: 0;position: absolute;width: 1px;}#sk-container-id-1 div.sk-estimator {font-family: monospace;background-color: #f0f8ff;border: 1px dotted black;border-radius: 0.25em;box-sizing: border-box;margin-bottom: 0.5em;}#sk-container-id-1 div.sk-estimator:hover {background-color: #d4ebff;}#sk-container-id-1 div.sk-parallel-item::after {content: \"\";width: 100%;border-bottom: 1px solid gray;flex-grow: 1;}#sk-container-id-1 div.sk-label:hover label.sk-toggleable__label {background-color: #d4ebff;}#sk-container-id-1 div.sk-serial::before {content: \"\";position: absolute;border-left: 1px solid gray;box-sizing: border-box;top: 0;bottom: 0;left: 50%;z-index: 0;}#sk-container-id-1 div.sk-serial {display: flex;flex-direction: column;align-items: center;background-color: white;padding-right: 0.2em;padding-left: 0.2em;position: relative;}#sk-container-id-1 div.sk-item {position: relative;z-index: 1;}#sk-container-id-1 div.sk-parallel {display: flex;align-items: stretch;justify-content: center;background-color: white;position: relative;}#sk-container-id-1 div.sk-item::before, #sk-container-id-1 div.sk-parallel-item::before {content: \"\";position: absolute;border-left: 1px solid gray;box-sizing: border-box;top: 0;bottom: 0;left: 50%;z-index: -1;}#sk-container-id-1 div.sk-parallel-item {display: flex;flex-direction: column;z-index: 1;position: relative;background-color: white;}#sk-container-id-1 div.sk-parallel-item:first-child::after {align-self: flex-end;width: 50%;}#sk-container-id-1 div.sk-parallel-item:last-child::after {align-self: flex-start;width: 50%;}#sk-container-id-1 div.sk-parallel-item:only-child::after {width: 0;}#sk-container-id-1 div.sk-dashed-wrapped {border: 1px dashed gray;margin: 0 0.4em 0.5em 0.4em;box-sizing: border-box;padding-bottom: 0.4em;background-color: white;}#sk-container-id-1 div.sk-label label {font-family: monospace;font-weight: bold;display: inline-block;line-height: 1.2em;}#sk-container-id-1 div.sk-label-container {text-align: center;}#sk-container-id-1 div.sk-container {/* jupyter's `normalize.less` sets `[hidden] { display: none; }` but bootstrap.min.css set `[hidden] { display: none !important; }` so we also need the `!important` here to be able to override the default hidden behavior on the sphinx rendered scikit-learn.org. See: https://github.com/scikit-learn/scikit-learn/issues/21755 */display: inline-block !important;position: relative;}#sk-container-id-1 div.sk-text-repr-fallback {display: none;}</style><div id=\"sk-container-id-1\" class=\"sk-top-container\"><div class=\"sk-text-repr-fallback\"><pre>SVC(kernel=&#x27;linear&#x27;)</pre><b>In a Jupyter environment, please rerun this cell to show the HTML representation or trust the notebook. <br />On GitHub, the HTML representation is unable to render, please try loading this page with nbviewer.org.</b></div><div class=\"sk-container\" hidden><div class=\"sk-item\"><div class=\"sk-estimator sk-toggleable\"><input class=\"sk-toggleable__control sk-hidden--visually\" id=\"sk-estimator-id-1\" type=\"checkbox\" checked><label for=\"sk-estimator-id-1\" class=\"sk-toggleable__label sk-toggleable__label-arrow\">SVC</label><div class=\"sk-toggleable__content\"><pre>SVC(kernel=&#x27;linear&#x27;)</pre></div></div></div></div></div>"
      ],
      "text/plain": [
       "SVC(kernel='linear')"
      ]
     },
     "execution_count": 26,
     "metadata": {},
     "output_type": "execute_result"
    }
   ],
   "source": [
    "classifier.fit(X_train, Y_train)"
   ]
  },
  {
   "attachments": {},
   "cell_type": "markdown",
   "metadata": {},
   "source": [
    "6. membuat model evaluasi untuk mengukur tingkat akurasi"
   ]
  },
  {
   "cell_type": "code",
   "execution_count": 27,
   "metadata": {},
   "outputs": [],
   "source": [
    "X_train_prediction = classifier.predict(X_train)\n",
    "training_data_accuracy = accuracy_score(X_train_prediction, Y_train)"
   ]
  },
  {
   "cell_type": "code",
   "execution_count": 28,
   "metadata": {},
   "outputs": [],
   "source": [
    "X_test_prediction = classifier.predict(X_test)\n",
    "test_data_accuracy = accuracy_score(X_test_prediction, Y_test)"
   ]
  },
  {
   "cell_type": "code",
   "execution_count": 29,
   "metadata": {},
   "outputs": [
    {
     "name": "stdout",
     "output_type": "stream",
     "text": [
      "Akurasi data testing adalah= 1.0\n"
     ]
    }
   ],
   "source": [
    "print('Akurasi data testing adalah=', test_data_accuracy)"
   ]
  },
  {
   "attachments": {},
   "cell_type": "markdown",
   "metadata": {},
   "source": [
    "7. model prediksi dataset"
   ]
  },
  {
   "cell_type": "code",
   "execution_count": 31,
   "metadata": {},
   "outputs": [
    {
     "name": "stdout",
     "output_type": "stream",
     "text": [
      "[1]\n",
      "Bintang Tipe Brown Dwarf\n"
     ]
    },
    {
     "name": "stderr",
     "output_type": "stream",
     "text": [
      "c:\\Users\\Nurthariqa\\AppData\\Local\\Programs\\Python\\Python310\\lib\\site-packages\\sklearn\\base.py:439: UserWarning: X does not have valid feature names, but SVC was fitted with feature names\n",
      "  warnings.warn(\n"
     ]
    }
   ],
   "source": [
    "input_data = (3129,0.0122,0.3761,11.79,0,0)\n",
    "input_data_as_numpy_array = np.array(input_data)\n",
    "input_data_reshape = input_data_as_numpy_array.reshape(1,-1)\n",
    "prediction = classifier.predict(input_data_reshape)\n",
    "print(prediction)\n",
    "\n",
    "if (prediction[0] == 0):\n",
    "    print('Bintang Tipe Red Dwarf')\n",
    "elif(prediction[0]==1):\n",
    "    print('Bintang Tipe Brown Dwarf')\n",
    "elif(prediction[0]==2):\n",
    "    print('Bintang Tipe White Dwarf')\n",
    "elif(prediction[0]==3):\n",
    "    print('Bintang Tipe Main Sequence')\n",
    "elif(prediction[0]==4):\n",
    "    print('Bintang Tipe Super Giants')\n",
    "else :\n",
    "    print('Bintang Tipe Hyper Giants')\n"
   ]
  },
  {
   "attachments": {},
   "cell_type": "markdown",
   "metadata": {},
   "source": [
    "8. simpan model"
   ]
  },
  {
   "cell_type": "code",
   "execution_count": 32,
   "metadata": {},
   "outputs": [],
   "source": [
    "import pickle"
   ]
  },
  {
   "cell_type": "code",
   "execution_count": 33,
   "metadata": {},
   "outputs": [],
   "source": [
    "filename = 'star_model.sav'\n",
    "pickle.dump(classifier, open(filename,'wb'))"
   ]
  }
 ],
 "metadata": {
  "kernelspec": {
   "display_name": "Python 3.9.13 ('base')",
   "language": "python",
   "name": "python3"
  },
  "language_info": {
   "codemirror_mode": {
    "name": "ipython",
    "version": 3
   },
   "file_extension": ".py",
   "mimetype": "text/x-python",
   "name": "python",
   "nbconvert_exporter": "python",
   "pygments_lexer": "ipython3",
   "version": "3.10.10"
  },
  "orig_nbformat": 4,
  "vscode": {
   "interpreter": {
    "hash": "4102bd6e8963cfff50fbe9f1bc1af0bf999cc549edec193432baa3c44aa434cc"
   }
  }
 },
 "nbformat": 4,
 "nbformat_minor": 2
}
